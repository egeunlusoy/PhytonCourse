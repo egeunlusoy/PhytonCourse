{
 "cells": [
  {
   "cell_type": "code",
   "execution_count": 3,
   "id": "16109646-c6c8-4a57-a544-ae5cd1201b10",
   "metadata": {},
   "outputs": [
    {
     "name": "stdout",
     "output_type": "stream",
     "text": [
      "[0, 2, 4, 6, 8, 10, 1, 3, 5, 7, 9]\n",
      "[0, 4, 8, 12, 16, 20, 2, 6, 10, 14, 18]\n",
      "0\n",
      "4\n",
      "8\n",
      "12\n",
      "16\n",
      "20\n",
      "2\n",
      "6\n",
      "10\n",
      "14\n",
      "18\n"
     ]
    }
   ],
   "source": [
    "even = list(range(0,11,2))\n",
    "odd = list(range(1,11,2))\n",
    "\n",
    "mlist = even + odd\n",
    "\n",
    "mlist = [i*2 for i in mlist]\n",
    "\n",
    "for i in mlist:\n",
    "    if i <= 20:\n",
    "     print(i)\n",
    "     i+=1\n",
    "        "
   ]
  },
  {
   "cell_type": "code",
   "execution_count": null,
   "id": "e9c4b322-608d-46e4-a9c9-27e92a4f8fd8",
   "metadata": {},
   "outputs": [],
   "source": []
  }
 ],
 "metadata": {
  "kernelspec": {
   "display_name": "Python 3",
   "language": "python",
   "name": "python3"
  },
  "language_info": {
   "codemirror_mode": {
    "name": "ipython",
    "version": 3
   },
   "file_extension": ".py",
   "mimetype": "text/x-python",
   "name": "python",
   "nbconvert_exporter": "python",
   "pygments_lexer": "ipython3",
   "version": "3.9.5"
  }
 },
 "nbformat": 4,
 "nbformat_minor": 5
}
