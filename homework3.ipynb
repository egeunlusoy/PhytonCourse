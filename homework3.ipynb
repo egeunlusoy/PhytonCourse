{
 "cells": [
  {
   "cell_type": "code",
   "execution_count": null,
   "id": "ea752566-107e-4c66-b5c0-0b117bb033bc",
   "metadata": {},
   "outputs": [],
   "source": [
    "keys = [\"midterm\", \"project\", \"final\", \"passingGrade\"]\n",
    "grades = list()\n",
    "student_list = list()\n",
    "\n",
    "s1 = dict.fromkeys(keys)\n",
    "s2 = dict.fromkeys(keys)\n",
    "s3 = dict.fromkeys(keys)\n",
    "s4 = dict.fromkeys(keys)\n",
    "s5 = dict.fromkeys(keys)\n",
    "\n",
    "def filldict(name):\n",
    "    midterm = int(input(\"Midterm grade is:\"))\n",
    "    project = int(input(\"Project grade is:\"))\n",
    "    final = int(input(\"Final grade is:\"))\n",
    "    passingGrade = midterm * (0.3) + project * (0.3) + final * (0.4) \n",
    "    name[keys[0]]=midterm\n",
    "    name[keys[1]]=project\n",
    "    name[keys[2]]=final\n",
    "    name[keys[3]]=passingGrade\n",
    "\n",
    "filldict(s1)\n",
    "filldict(s2)\n",
    "filldict(s3)\n",
    "filldict(s4)\n",
    "filldict(s5)\n",
    "\n",
    "student_list.append(s1)\n",
    "student_list.append(s2)\n",
    "student_list.append(s3)\n",
    "student_list.append(s4)\n",
    "student_list.append(s5)\n",
    "\n",
    "for k in student_list:\n",
    "     grades.append(k[\"passingGrade\"])\n",
    "\n",
    "min_in = grades.index(min(grades))\n",
    "max_in = grades.index(max(grades))\n",
    "\n",
    "grades[0], grades[max_in] = grades[max_in], grades[0]\n",
    "grades[4], grades[min_in] = grades[min_in], grades[4]\n",
    "\n",
    "\n"
   ]
  },
  {
   "cell_type": "code",
   "execution_count": null,
   "id": "6ad3fd32-c5ec-41be-aea6-17ade8314e1e",
   "metadata": {},
   "outputs": [],
   "source": []
  },
  {
   "cell_type": "code",
   "execution_count": null,
   "id": "2968ad7a-2903-4488-98f2-0a889e8b6948",
   "metadata": {},
   "outputs": [],
   "source": []
  }
 ],
 "metadata": {
  "kernelspec": {
   "display_name": "Python 3",
   "language": "python",
   "name": "python3"
  },
  "language_info": {
   "codemirror_mode": {
    "name": "ipython",
    "version": 3
   },
   "file_extension": ".py",
   "mimetype": "text/x-python",
   "name": "python",
   "nbconvert_exporter": "python",
   "pygments_lexer": "ipython3",
   "version": "3.9.5"
  }
 },
 "nbformat": 4,
 "nbformat_minor": 5
}
