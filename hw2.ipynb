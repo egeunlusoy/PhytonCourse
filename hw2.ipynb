{
 "cells": [
  {
   "cell_type": "code",
   "execution_count": 1,
   "id": "9118d769-2e5a-45db-9d63-96294a2ec850",
   "metadata": {},
   "outputs": [
    {
     "name": "stdout",
     "output_type": "stream",
     "text": [
      "Name : Jason , Surname : Smith , Age : 25 , University : MIT \n",
      "Name : Lauren , Surname : McKenzie , Age : 22 , University : Harvard \n",
      "Name : Katie , Surname : McKenna , Age : 23 , University : UCLA \n",
      "Name : Matteo , Surname : Rossi , Age : 25 , University : Politecnico di Torino \n",
      "Name : Brittenelle , Surname : Soler , Age : 27 , University : Yale \n"
     ]
    }
   ],
   "source": [
    "cv1 = {\"Name\":\"Jason\",\n",
    "       \"Surname\":\"Smith\",\n",
    "       \"Age\": 25 ,\n",
    "       \"University\": \"MIT\"}\n",
    "cv2 = {\"Name\":\"Lauren\",\n",
    "       \"Surname\":\"McKenzie\",\n",
    "       \"Age\": 22,\n",
    "       \"University\": \"Harvard\"}\n",
    "cv3 = {\"Name\":\"Katie\",\n",
    "       \"Surname\":\"McKenna\",\n",
    "       \"Age\": 23,\n",
    "       \"University\": \"UCLA\"}\n",
    "cv4 = {\"Name\":\"Matteo\",\n",
    "       \"Surname\":\"Rossi\",\n",
    "       \"Age\": 25,\n",
    "       \"University\":\"Politecnico di Torino\"}\n",
    "cv5 = {\"Name\":\"Brittenelle\",\n",
    "       \"Surname\":\"Soler\",\n",
    "       \"Age\": 27,\n",
    "       \"University\": \"Yale\"}\n",
    "cv_list = []\n",
    "\n",
    "cv_list.append(cv1)\n",
    "cv_list.append(cv2)\n",
    "cv_list.append(cv3)\n",
    "cv_list.append(cv4)\n",
    "cv_list.append(cv5)\n",
    " \n",
    "for k in cv_list:\n",
    "    print(\"Name : %s , Surname : %s , Age : %d , University : %s \"  % (\n",
    "        k[\"Name\"], k[\"Surname\"], k[\"Age\"] , k[\"University\"]       ))\n",
    "    "
   ]
  },
  {
   "cell_type": "code",
   "execution_count": null,
   "id": "d03a9385-8f42-426c-8fbd-32defd928413",
   "metadata": {},
   "outputs": [],
   "source": []
  }
 ],
 "metadata": {
  "kernelspec": {
   "display_name": "Python 3",
   "language": "python",
   "name": "python3"
  },
  "language_info": {
   "codemirror_mode": {
    "name": "ipython",
    "version": 3
   },
   "file_extension": ".py",
   "mimetype": "text/x-python",
   "name": "python",
   "nbconvert_exporter": "python",
   "pygments_lexer": "ipython3",
   "version": "3.9.5"
  }
 },
 "nbformat": 4,
 "nbformat_minor": 5
}
